{
 "cells": [
  {
   "cell_type": "code",
   "execution_count": null,
   "metadata": {},
   "outputs": [],
   "source": [
    "#David Ladd\n",
    "#IST 652 Final Project\n",
    "#Collaboration with Leonard Armstrong\n",
    "#3/15/2021"
   ]
  },
  {
   "cell_type": "code",
   "execution_count": null,
   "metadata": {},
   "outputs": [],
   "source": [
    "#Import Packages\n",
    "import numpy as np\n",
    "import matplotlib\n",
    "import matplotlib.pyplot as plt\n",
    "import pickle\n",
    "import pandas as pd  "
   ]
  },
  {
   "cell_type": "code",
   "execution_count": null,
   "metadata": {},
   "outputs": [],
   "source": [
    "# Import the os module\n",
    "import os\n",
    "\n",
    "# Get the current working directory\n",
    "cwd = os.getcwd()\n",
    "\n",
    "# Print the current working directory\n",
    "print(\"Current working directory: {0}\".format(cwd))\n",
    "\n",
    "# Print the type of the returned object\n",
    "print(\"os.getcwd() returns an object of type: {0}\".format(type(cwd)))"
   ]
  },
  {
   "cell_type": "code",
   "execution_count": null,
   "metadata": {},
   "outputs": [],
   "source": [
    "#Reading a pickle file containing tweet data and converting into a Pandas Series\n",
    "hdf = pd.read_pickle(\"Hasbro.pickle\") \n",
    "husers = pd.Series([ user.get(\"screen_name\") for user in hdf.user ])  \n",
    "\n",
    "#Reading a pickle file containing tweet data and converting into a Pandas Series\n",
    "sdf = pd.read_pickle(\"collectsideshow.pickle\") \n",
    "susers = pd.Series([ user.get(\"screen_name\") for user in sdf.user ])  \n",
    "\n",
    "#Reading a pickle file containing tweet data and converting into a Pandas Series\n",
    "htdf = pd.read_pickle(\"hottoysofficial.pickle\")\n",
    "htusers = pd.Series([ user.get(\"screen_name\") for user in htdf.user ])\n",
    "\n",
    "#Reading a pickle file containing tweet data and converting into a Pandas Series\n",
    "dcdf = pd.read_pickle(\"DCCollectibles.pickle\")\n",
    "dcusers = pd.Series([ user.get(\"screen_name\") for user in dcdf.user ])\n",
    "\n",
    "#Reading a pickle file containing tweet data and converting into a Pandas Series\n",
    "gijdf = pd.read_pickle(\"The_GIJoe_Club.pickle\")\n",
    "gijusers = pd.Series([ user.get(\"screen_name\") for user in gijdf.user ])\n",
    "\n",
    "#Concatenating results into a single Pandas series\n",
    "all_users = husers.append(susers).append(htusers).append(dcusers).append(gijusers)\n",
    "\n",
    "#Counting the tweets for all-users\n",
    "distr = all_users.value_counts()\n"
   ]
  },
  {
   "cell_type": "code",
   "execution_count": null,
   "metadata": {},
   "outputs": [],
   "source": [
    "#Reading a pickle file containing tweet data and converting into a Pandas Series\n",
    "hdf = pd.read_pickle(\"Hasbro.pickle\") \n",
    "husers = pd.Series([ user.get(\"screen_name\") for user in hdf.user ])  \n",
    "\n",
    "#Reading a pickle file containing tweet data and converting into a Pandas Series\n",
    "sdf = pd.read_pickle(\"collectsideshow.pickle\") \n",
    "susers = pd.Series([ user.get(\"screen_name\") for user in sdf.user ])  \n",
    "\n",
    "#Reading a pickle file containing tweet data and converting into a Pandas Series\n",
    "htdf = pd.read_pickle(\"hottoysofficial.pickle\")\n",
    "htusers = pd.Series([ user.get(\"screen_name\") for user in htdf.user ])\n",
    "\n",
    "#Reading a pickle file containing tweet data and converting into a Pandas Series\n",
    "dcdf = pd.read_pickle(\"DCCollectibles.pickle\")\n",
    "dcusers = pd.Series([ user.get(\"screen_name\") for user in dcdf.user ])\n",
    "\n",
    "#Reading a pickle file containing tweet data and converting into a Pandas Series\n",
    "gijdf = pd.read_pickle(\"The_GIJoe_Club.pickle\")\n",
    "gijusers = pd.Series([ user.get(\"screen_name\") for user in gijdf.user ])\n",
    "\n",
    "#Concatenating results into a single Pandas series\n",
    "all_users = husers.append(susers).append(htusers).append(dcusers).append(gijusers)\n",
    "\n",
    "#Counting the tweets for all-users\n",
    "distr = all_users.value_counts()"
   ]
  },
  {
   "cell_type": "code",
   "execution_count": null,
   "metadata": {},
   "outputs": [],
   "source": [
    "len(distr)"
   ]
  },
  {
   "cell_type": "code",
   "execution_count": null,
   "metadata": {},
   "outputs": [],
   "source": [
    "#Creating a python dictionary using the user as the key and the length of the dataframe as the value.\n",
    "datadict = {'Hasbro':len(hdf),'collectsideshow':len(sdf),'hottoysofficial':len(htdf), 'dccollectibles':len(dcdf), 'GIjoeclub':len(gijdf)}"
   ]
  },
  {
   "cell_type": "code",
   "execution_count": null,
   "metadata": {},
   "outputs": [],
   "source": [
    "#Printing the dictionary\n",
    "print(datadict)"
   ]
  },
  {
   "cell_type": "code",
   "execution_count": null,
   "metadata": {},
   "outputs": [],
   "source": [
    "#Creating a numpy array from the datadict dictionary. For chart clarity, DCCcollectibles and GIjoeClub combined into \"Other\" category\n",
    "y = np.array([3000, 3097, 1112, 8])\n",
    "#Labeling the numpy array with tweet tags and percentages\n",
    "mylabels = [f\"Hasbro ({100 * 3000/y.sum():5.1f}%)\", f\"collectsideshow ({100 * 3097/y.sum():5.1f}%)\", f\"hottoysoffical ({100 * 1112/y.sum():5.1f}%)\",  f\"Other (DCCollectibles and The_GIJoe_Club) ({100 * 8/y.sum():5.1f}%)\"]\n",
    "#Separated the results in the pie chart\n",
    "myexplode = [0.1,0.1,0.1,0.1]\n",
    "#Creating a pie chart\n",
    "plt.pie(y, labels = mylabels, explode = myexplode)\n",
    "#Displaying the pie chart\n",
    "plt.show() "
   ]
  },
  {
   "cell_type": "code",
   "execution_count": null,
   "metadata": {},
   "outputs": [],
   "source": [
    "top30 = distr[:30]    "
   ]
  },
  {
   "cell_type": "code",
   "execution_count": null,
   "metadata": {},
   "outputs": [],
   "source": [
    "print(top30)"
   ]
  },
  {
   "cell_type": "code",
   "execution_count": null,
   "metadata": {},
   "outputs": [],
   "source": []
  }
 ],
 "metadata": {
  "kernelspec": {
   "display_name": "Python 3",
   "language": "python",
   "name": "python3"
  },
  "language_info": {
   "codemirror_mode": {
    "name": "ipython",
    "version": 3
   },
   "file_extension": ".py",
   "mimetype": "text/x-python",
   "name": "python",
   "nbconvert_exporter": "python",
   "pygments_lexer": "ipython3",
   "version": "3.8.5"
  }
 },
 "nbformat": 4,
 "nbformat_minor": 4
}
